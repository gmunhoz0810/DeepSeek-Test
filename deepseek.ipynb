{
 "cells": [
  {
   "cell_type": "markdown",
   "metadata": {},
   "source": [
    "# Deepseek Local Test with Small Model: DeepSeek-R1:7B\n",
    "- $0 Cost\n",
    "\n",
    "- Runs Locally\n",
    "\n",
    "- 7 B Params"
   ]
  },
  {
   "cell_type": "markdown",
   "metadata": {},
   "source": [
    "Step 1: Install Ollama https://ollama.com/"
   ]
  },
  {
   "cell_type": "markdown",
   "metadata": {},
   "source": [
    "Step 2: Pip install Ollama"
   ]
  },
  {
   "cell_type": "code",
   "execution_count": null,
   "metadata": {},
   "outputs": [],
   "source": [
    "%pip install ollama"
   ]
  },
  {
   "cell_type": "markdown",
   "metadata": {},
   "source": [
    "3. Run this cell in your terminal"
   ]
  },
  {
   "cell_type": "code",
   "execution_count": null,
   "metadata": {},
   "outputs": [],
   "source": [
    "!ollama run deepseek-r1:7b"
   ]
  },
  {
   "cell_type": "markdown",
   "metadata": {},
   "source": [
    "Step 4: Run the rest of the code"
   ]
  },
  {
   "cell_type": "markdown",
   "metadata": {},
   "source": [
    "### Load Model"
   ]
  },
  {
   "cell_type": "code",
   "execution_count": 10,
   "metadata": {},
   "outputs": [
    {
     "name": "stdout",
     "output_type": "stream",
     "text": [
      "Successfully pulled model deepseek-r1:7b\n"
     ]
    }
   ],
   "source": [
    "import ollama\n",
    "\n",
    "desiredModel = 'deepseek-r1:7b'\n",
    "\n",
    "# pull the deepseek model\n",
    "try:\n",
    "    ollama.pull(desiredModel)\n",
    "    print(f\"Successfully pulled model {desiredModel}\")\n",
    "except Exception as e:\n",
    "    print(f\"Note: Could not pull model (it may already be installed): {e}\")"
   ]
  },
  {
   "cell_type": "markdown",
   "metadata": {},
   "source": [
    "### Generate Response"
   ]
  },
  {
   "cell_type": "code",
   "execution_count": 11,
   "metadata": {},
   "outputs": [
    {
     "name": "stdout",
     "output_type": "stream",
     "text": [
      "<think>\n",
      "Okay, so I need to figure out the best places to visit in Paris. Hmm, where do I start? I know Paris is a major city with lots of history and famous landmarks, but I'm not exactly sure about all the top spots.\n",
      "\n",
      "First off, I've heard of the Eiffel Tower before. It's definitely iconic, right? So that must be on the list. But where exactly in Paris is it located? Maybe in the Marais district or something like that. I should include its location to provide more context for travelers.\n",
      "\n",
      "Next, the Louvre Museum comes to mind. I think it's one of the largest art museums in the world and has some of the most famous artworks. The Mona Lisa is there, so that's a must-see. Where is the Louvre? Probably near the Seine River, maybe in the Invalides area or something like that.\n",
      "\n",
      "Then there's Notre-Dame Cathedral. I believe it was damaged by fire a few years back, but it's still a significant attraction. Is it located on the Left Bank of the Seine? That sounds right. Also, the crypt under the cathedral is famous for containing the bodies of several French kings, which would be interesting to mention.\n",
      "\n",
      "The Paris奶酪 shop is another place I've heard about. It's in Le Marais district, and it's known for having the largest selection of cheeses in the world. That seems like a unique and interesting spot that travelers might not think to visit, so including it makes sense.\n",
      "\n",
      "I should also consider other must-visit spots beyond just landmarks and museums. Maybe places with great food, like a bistro or a specific type of restaurant. Le Fumoir Bistro near Greville Tower is mentioned in one of the earlier points, but maybe there are others as well, such as traditional restaurants serving Parisian cuisine.\n",
      "\n",
      "Sights related to the French Revolution could be interesting too. The Bastille is famous for being the prison whereroyalty was kept before the revolution. It's located on the Champ de Mars, which I think is a major park in the city. Also, Gallicensitivity or something similar is supposed to tell the story of the revolution through art and music; maybe that's worth including.\n",
      "\n",
      "The Jardin du Luxembourg is another park with some historical buildings like the Old Tuilery. It's on the Right Bank, so it's probably near other major attractions. Including this would be good for mentioning parks and gardens in Paris as well.\n",
      "\n",
      "I should also think about specific neighborhoods to visit, like Le Marais since it has that奶酪 shop, Montmartre which is known for its artistic vibe, Latin Quarter which is vibrant with students and young professionals, and Trocadéro near the Eiffel Tower where you can see different views of the city. Maybe also mention Bastille Park as another area to explore.\n",
      "\n",
      "Wait, are there any other famous museums besides Louvre? The Musée Rodin is there too, right? It has works by Rodin, like thessières. So including that in the top places would be helpful since it's another major cultural spot.\n",
      "\n",
      "Also, not all Parisians go to the Eiffel Tower; maybe some prefer other iconic spots. But I think overall, these are the most popular and significant places people visit when they're in Paris.\n",
      "\n",
      "So putting this together, the best places to visit in Paris would include:\n",
      "1. The Eiffel Tower\n",
      "2. Louvre Museum\n",
      "3. Notre-Dame Cathedral\n",
      "4. Paris奶酪 shop (Le Fumoir)\n",
      "5. Musée Rodin\n",
      "6. Bastille Prison and Gallicensitivity\n",
      "7. Jardin du Luxembourg\n",
      "8. Montmartre\n",
      "9. Latin Quarter\n",
      "10. Bastille Park\n",
      "\n",
      "I should organize these points clearly, maybe in a numbered list with brief descriptions for each location's significance. Also, adding the opening times or admission fees would be helpful, but since I don't have exact details, perhaps it's better to mention that information can be found online.\n",
      "\n",
      "Wait, does Le Fumoir actually have the largest selection of cheeses? I think they do because they have over 100 types from all around the world. That makes it a unique spot not many people know about, so including it is important for providing a comprehensive list.\n",
      "\n",
      "Also, the Bastille Park area and its historical sites are crucial as they relate to France's past, which adds depth to the visit beyond just sightseeing.\n",
      "\n",
      "I think that covers most of the major attractions. Maybe there are a few more spots I'm missing, but these seem like the top ones based on popularity and significance.\n",
      "</think>\n",
      "\n",
      "The best places to visit in Paris offer a rich blend of history, culture, and iconic landmarks. Here's a curated list of must-visit destinations:\n",
      "\n",
      "1. **Eiffel Tower**: Iconic landmark located near the Marais district, accessible year-round.\n",
      "\n",
      "2. **Louvre Museum**: World-renowned art museum housing masterpieces like the Mona Lisa, situated in the Invalides area.\n",
      "\n",
      "3. **Notre-Dame Cathedral**: A stunning Gothic structure damaged by fire but still a major attraction, located on the Left Bank of the Seine.\n",
      "\n",
      "4. **Paris奶酪 shop (Le Fumoir)**: Unique spot offering over 100 types of cheeses from around the globe in Le Marais.\n",
      "\n",
      "5. **Musée Rodin**: Home to Claude Rodin's sculptures like \"Thessières,\" located near the Luxembourg Gardens.\n",
      "\n",
      "6. **Bastille Prison and Gallicensitivity**: Historical site near Champ de Mars, detailing France's revolutionary past through art and music.\n",
      "\n",
      "7. **Jardin du Luxembourg**: Expansive park with historic buildings like the Old Tuilery on the Right Bank.\n",
      "\n",
      "8. **Montmartre**: Artistic neighborhood known for its bohemian vibe and Montmartre Cemetery.\n",
      "\n",
      "9. **Latin Quarter**: Vibrant area famous for student life and cultural spots.\n",
      "\n",
      "10. **Bastille Park (Trocadéro)**: Offers panoramic views of Paris from this elevated viewpoint near the Eiffel Tower.\n",
      "\n",
      "These destinations provide a comprehensive experience of Paris, combining iconic landmarks with unique cultural spots to explore.\n"
     ]
    }
   ],
   "source": [
    "prompt = 'What are the best places to visit in Paris?'\n",
    "\n",
    "# send the chat request\n",
    "response = ollama.chat(model=desiredModel, messages=[\n",
    "    {\n",
    "        'role': 'user',\n",
    "        'content': prompt,\n",
    "    },\n",
    "])\n",
    "\n",
    "OllamaResponse = response['message']['content']\n",
    "\n",
    "print(OllamaResponse)"
   ]
  },
  {
   "cell_type": "markdown",
   "metadata": {},
   "source": [
    "### Save Response to .txt File"
   ]
  },
  {
   "cell_type": "code",
   "execution_count": null,
   "metadata": {},
   "outputs": [],
   "source": [
    "with open(\"OutputOllama.txt\", \"w\", encoding=\"utf-8\") as text_file:\n",
    "    text_file.write(OllamaResponse)\n",
    "    \n",
    "print(\"Response saved to OutputOllama.txt\")"
   ]
  }
 ],
 "metadata": {
  "kernelspec": {
   "display_name": "phi_env",
   "language": "python",
   "name": "python3"
  },
  "language_info": {
   "codemirror_mode": {
    "name": "ipython",
    "version": 3
   },
   "file_extension": ".py",
   "mimetype": "text/x-python",
   "name": "python",
   "nbconvert_exporter": "python",
   "pygments_lexer": "ipython3",
   "version": "3.13.1"
  }
 },
 "nbformat": 4,
 "nbformat_minor": 2
}
